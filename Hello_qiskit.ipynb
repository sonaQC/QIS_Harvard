{
 "cells": [
  {
   "cell_type": "markdown",
   "id": "9e99e7c1",
   "metadata": {},
   "source": [
    "Hello World Program :  Create the simplest quantum entangled state (Bell state):\n",
    "\n",
    "A closest source can be found at :https://qiskit.org/documentation/intro_tutorial1.html\n",
    "\n",
    "In this simple program we learn how to build simple quntum circuit and run it on simulator backend. \n",
    "\n",
    "When using Qiskit a user workflow nominally consists of following four high-level steps:\n",
    "\n",
    "    Build: Design a quantum circuit(s) that represents the problem you are considering.\n",
    "\n",
    "    Compile: Compile circuits for a specific quantum service, e.g. a quantum system or classical simulator.\n",
    "\n",
    "    Run: Run the compiled circuits on the specified quantum service(s). These services can be cloud-based or local.\n",
    "\n",
    "    Analyze: Compute summary statistics and visualize the results of the experiments.\n",
    "\n",
    "\n",
    "Step 1 : Import Packages"
   ]
  },
  {
   "cell_type": "code",
   "execution_count": null,
   "id": "0c247fae",
   "metadata": {},
   "outputs": [],
   "source": [
    "import numpy as np\n",
    "from qiskit import QuantumCircuit\n",
    "from qiskit.providers.aer import QasmSimulator\n",
    "from qiskit.visualization import plot_histogram"
   ]
  },
  {
   "cell_type": "markdown",
   "id": "a0067c53",
   "metadata": {},
   "source": [
    "In more detail, the imports are\n",
    "\n",
    "    QuantumCircuit: can be thought as the instructions of the quantum system. It holds all your quantum operations.\n",
    "\n",
    "    QasmSimulator: is the Aer high performance circuit simulator.\n",
    "\n",
    "    plot_histogram: creates histograms.\n"
   ]
  },
  {
   "cell_type": "markdown",
   "id": "7aa776d3",
   "metadata": {},
   "source": [
    "Step 2 : Initialize Variables\n",
    "\n",
    "Here, we are initializing with 2 qubits in the zero state; with 2 classical bits set to zero; and circuit is the quantum circuit."
   ]
  },
  {
   "cell_type": "code",
   "execution_count": 3,
   "id": "d3a66e3c",
   "metadata": {},
   "outputs": [],
   "source": [
    "circuit=QuantumCircuit(2,2)"
   ]
  },
  {
   "cell_type": "code",
   "execution_count": 4,
   "id": "cff95c66",
   "metadata": {},
   "outputs": [
    {
     "data": {
      "text/html": [
       "<pre style=\"word-wrap: normal;white-space: pre;background: #fff0;line-height: 1.1;font-family: &quot;Courier New&quot;,Courier,monospace\">     \n",
       "q_0: \n",
       "     \n",
       "q_1: \n",
       "     \n",
       "c: 2/\n",
       "     </pre>"
      ],
      "text/plain": [
       "     \n",
       "q_0: \n",
       "     \n",
       "q_1: \n",
       "     \n",
       "c: 2/\n",
       "     "
      ]
     },
     "execution_count": 4,
     "metadata": {},
     "output_type": "execute_result"
    }
   ],
   "source": [
    "circuit.draw()"
   ]
  },
  {
   "cell_type": "markdown",
   "id": "9f6807e6",
   "metadata": {},
   "source": [
    "we have the option to visualize how the quantum circuit looks by running the following command"
   ]
  },
  {
   "cell_type": "markdown",
   "id": "86979739",
   "metadata": {},
   "source": [
    "Step 3 : Add Gates"
   ]
  },
  {
   "cell_type": "markdown",
   "id": "ea93cf1e",
   "metadata": {},
   "source": [
    "Lets see what happens when we apply a gate. Here we start with Hadmard gate which creates superposition of two qubit"
   ]
  },
  {
   "cell_type": "code",
   "execution_count": 5,
   "id": "fbfe8657",
   "metadata": {},
   "outputs": [
    {
     "data": {
      "text/plain": [
       "<qiskit.circuit.instructionset.InstructionSet at 0x7feb39227b50>"
      ]
     },
     "execution_count": 5,
     "metadata": {},
     "output_type": "execute_result"
    }
   ],
   "source": [
    "circuit.h(0)"
   ]
  },
  {
   "cell_type": "markdown",
   "id": "6830d61c",
   "metadata": {},
   "source": [
    "Let us perform an entangling gate. We start with controlled-Not operation (𝐶𝑁𝑂𝑇) on control qubit 0 and target qubit 1, putting the qubits in an entangled state."
   ]
  },
  {
   "cell_type": "code",
   "execution_count": 6,
   "id": "d84df7ab",
   "metadata": {},
   "outputs": [
    {
     "data": {
      "text/plain": [
       "<qiskit.circuit.instructionset.InstructionSet at 0x7feb3923bfa0>"
      ]
     },
     "execution_count": 6,
     "metadata": {},
     "output_type": "execute_result"
    }
   ],
   "source": [
    "circuit.cx(0,1)"
   ]
  },
  {
   "cell_type": "markdown",
   "id": "83268fd2",
   "metadata": {},
   "source": [
    "Step 4 : Visualize the Circuit \n",
    "\n",
    "You can use qiskit.circuit.QuantumCircuit.draw() to view the circuit that you have designed in the various forms used in many textbooks and research articles."
   ]
  },
  {
   "cell_type": "code",
   "execution_count": 7,
   "id": "21113e83",
   "metadata": {},
   "outputs": [
    {
     "data": {
      "text/html": [
       "<pre style=\"word-wrap: normal;white-space: pre;background: #fff0;line-height: 1.1;font-family: &quot;Courier New&quot;,Courier,monospace\">     ┌───┐     \n",
       "q_0: ┤ H ├──■──\n",
       "     └───┘┌─┴─┐\n",
       "q_1: ─────┤ X ├\n",
       "          └───┘\n",
       "c: 2/══════════\n",
       "               </pre>"
      ],
      "text/plain": [
       "     ┌───┐     \n",
       "q_0: ┤ H ├──■──\n",
       "     └───┘┌─┴─┐\n",
       "q_1: ─────┤ X ├\n",
       "          └───┘\n",
       "c: 2/══════════\n",
       "               "
      ]
     },
     "execution_count": 7,
     "metadata": {},
     "output_type": "execute_result"
    }
   ],
   "source": [
    "circuit.draw()"
   ]
  },
  {
   "cell_type": "markdown",
   "id": "d2b9efa4",
   "metadata": {},
   "source": [
    "The default backend for QuantumCircuit.draw() or qiskit.visualization.circuit_drawer() is the text backend. However, depending on your local environment you may want to change these defaults to something better suited for your use case.For example, a settings.conf file for setting a Matplotlib drawer is:"
   ]
  },
  {
   "cell_type": "code",
   "execution_count": 8,
   "id": "a7ddb7d7",
   "metadata": {},
   "outputs": [
    {
     "data": {
      "image/png": "[encoded data removed]",
      "text/plain": [
       "<Figure size 287.294x284.278 with 1 Axes>"
      ]
     },
     "execution_count": 8,
     "metadata": {},
     "output_type": "execute_result"
    }
   ],
   "source": [
    "circuit.draw(output='mpl')"
   ]
  },
  {
   "cell_type": "markdown",
   "id": "1d6ed355",
   "metadata": {},
   "source": [
    "Congradualtion you have created the Bell state: |𝜓⟩=(|00⟩+|11⟩)/2"
   ]
  },
  {
   "cell_type": "markdown",
   "id": "ec59c73f",
   "metadata": {},
   "source": [
    "Now we can extract the outputs by using .measure() function in Qiskit. In this example, the classical bits will be used to store the outputs"
   ]
  },
  {
   "cell_type": "code",
   "execution_count": 9,
   "id": "4abe9583",
   "metadata": {},
   "outputs": [
    {
     "data": {
      "text/plain": [
       "<qiskit.circuit.instructionset.InstructionSet at 0x7feb7916a020>"
      ]
     },
     "execution_count": 9,
     "metadata": {},
     "output_type": "execute_result"
    }
   ],
   "source": [
    "circuit.measure([0],[0])"
   ]
  },
  {
   "cell_type": "code",
   "execution_count": 10,
   "id": "6e1734a6",
   "metadata": {},
   "outputs": [
    {
     "data": {
      "text/html": [
       "<pre style=\"word-wrap: normal;white-space: pre;background: #fff0;line-height: 1.1;font-family: &quot;Courier New&quot;,Courier,monospace\">     ┌───┐     ┌─┐\n",
       "q_0: ┤ H ├──■──┤M├\n",
       "     └───┘┌─┴─┐└╥┘\n",
       "q_1: ─────┤ X ├─╫─\n",
       "          └───┘ ║ \n",
       "c: 2/═══════════╩═\n",
       "                0 </pre>"
      ],
      "text/plain": [
       "     ┌───┐     ┌─┐\n",
       "q_0: ┤ H ├──■──┤M├\n",
       "     └───┘┌─┴─┐└╥┘\n",
       "q_1: ─────┤ X ├─╫─\n",
       "          └───┘ ║ \n",
       "c: 2/═══════════╩═\n",
       "                0 "
      ]
     },
     "execution_count": 10,
     "metadata": {},
     "output_type": "execute_result"
    }
   ],
   "source": [
    "circuit.draw()"
   ]
  },
  {
   "cell_type": "code",
   "execution_count": 11,
   "id": "f44bd24f",
   "metadata": {},
   "outputs": [
    {
     "data": {
      "text/plain": [
       "<qiskit.circuit.instructionset.InstructionSet at 0x7feb7916a1a0>"
      ]
     },
     "execution_count": 11,
     "metadata": {},
     "output_type": "execute_result"
    }
   ],
   "source": [
    "circuit.measure([1],[1])"
   ]
  },
  {
   "cell_type": "code",
   "execution_count": 12,
   "id": "99565873",
   "metadata": {},
   "outputs": [
    {
     "data": {
      "image/png": "[encoded data removed]",
      "text/plain": [
       "<Figure size 454.517x284.278 with 1 Axes>"
      ]
     },
     "execution_count": 12,
     "metadata": {},
     "output_type": "execute_result"
    }
   ],
   "source": [
    "circuit.draw(output='mpl')"
   ]
  },
  {
   "cell_type": "markdown",
   "id": "cc684f3f",
   "metadata": {},
   "source": [
    "or directly"
   ]
  },
  {
   "cell_type": "code",
   "execution_count": 220,
   "id": "d52c988a",
   "metadata": {},
   "outputs": [],
   "source": [
    "#circuit.measure([0,1],[0,1])"
   ]
  },
  {
   "cell_type": "code",
   "execution_count": 221,
   "id": "f380d199",
   "metadata": {},
   "outputs": [],
   "source": [
    "#circuit.draw(output='mpl')"
   ]
  },
  {
   "cell_type": "markdown",
   "id": "8051e6a7",
   "metadata": {},
   "source": [
    "Step 5 : Simulate the Experiment\n",
    "\n",
    "Qiskit Aer is a high performance simulator framework for quantum circuits. It provides several backends to achieve different simulation goals. If you have issues installing Aer, you can alternatively use the Basic Aer provider by replacing Aer with BasicAer. Basic Aer is included in Qiskit Terra.\n",
    "\n",
    "To simulate this circuit, you will use the qasm_simulator. Each run of this circuit will yield either the bit string 00 or 11."
   ]
  },
  {
   "cell_type": "code",
   "execution_count": 21,
   "id": "60952808",
   "metadata": {},
   "outputs": [],
   "source": [
    "simulator = QasmSimulator()\n",
    "#compiled_circuit = transpile(circuit, simulator)\n",
    "#job = simulator.run(compiled_circuit, shots=1000)\n",
    "job = simulator.run(circuit, shots=1000)"
   ]
  },
  {
   "cell_type": "markdown",
   "id": "6d5948cc",
   "metadata": {},
   "source": [
    "Lets check the results:"
   ]
  },
  {
   "cell_type": "code",
   "execution_count": 22,
   "id": "61124bfd",
   "metadata": {},
   "outputs": [
    {
     "name": "stdout",
     "output_type": "stream",
     "text": [
      "\n",
      "Total count for 00 and 11 are: {'00': 496, '11': 504}\n"
     ]
    }
   ],
   "source": [
    "result = job.result()\n",
    "counts = result.get_counts(circuit)\n",
    "print(\"\\nTotal count for 00 and 11 are:\",counts)"
   ]
  },
  {
   "cell_type": "code",
   "execution_count": 23,
   "id": "e5b87708",
   "metadata": {},
   "outputs": [],
   "source": [
    "#result"
   ]
  },
  {
   "cell_type": "markdown",
   "id": "fba6e284",
   "metadata": {},
   "source": [
    "As expected, the output bit string is 00 approximately 50 percent of the time. The number of times the circuit is run can be specified via the shots argument of the execute method. The number of shots of the simulation was set to be 1000 (the default is 1024)"
   ]
  },
  {
   "cell_type": "markdown",
   "id": "25910fbf",
   "metadata": {},
   "source": [
    "Step 6 : Visualize the Results\n",
    "\n",
    "Qiskit provides many visualizations,\n",
    "\n",
    "including the function plot_histogram, to view your results."
   ]
  },
  {
   "cell_type": "code",
   "execution_count": 24,
   "id": "34107427",
   "metadata": {},
   "outputs": [
    {
     "data": {
      "image/png": "[encoded data removed]",
      "text/plain": [
       "<Figure size 700x500 with 1 Axes>"
      ]
     },
     "execution_count": 24,
     "metadata": {},
     "output_type": "execute_result"
    }
   ],
   "source": [
    "plot_histogram(counts)"
   ]
  },
  {
   "cell_type": "code",
   "execution_count": null,
   "id": "4ffb556b",
   "metadata": {},
   "outputs": [],
   "source": []
  }
 ],
 "metadata": {
  "kernelspec": {
   "display_name": "Python 3 (ipykernel)",
   "language": "python",
   "name": "python3"
  },
  "language_info": {
   "codemirror_mode": {
    "name": "ipython",
    "version": 3
   },
   "file_extension": ".py",
   "mimetype": "text/x-python",
   "name": "python",
   "nbconvert_exporter": "python",
   "pygments_lexer": "ipython3",
   "version": "3.10.4"
  }
 },
 "nbformat": 4,
 "nbformat_minor": 5
}
